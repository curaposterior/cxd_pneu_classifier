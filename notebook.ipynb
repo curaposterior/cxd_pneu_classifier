{
  "cells": [
    {
      "cell_type": "code",
      "execution_count": 18,
      "metadata": {
        "id": "lnNLotwmGq76"
      },
      "outputs": [],
      "source": [
        "import torch\n",
        "import torch.optim as optim\n",
        "import torch.nn as nn\n",
        "import torchvision\n",
        "from torchvision.io import read_image\n",
        "from torchvision import transforms\n",
        "from torch.utils.data import Dataset, DataLoader\n",
        "from torch.nn import functional as F\n",
        "\n",
        "import pandas as pd\n",
        "import matplotlib.pyplot as plt\n",
        "import json\n",
        "import string\n",
        "import os\n",
        "from PIL import Image\n",
        "\n",
        "from typing import Any\n"
      ]
    },
    {
      "cell_type": "code",
      "execution_count": 19,
      "metadata": {
        "colab": {
          "base_uri": "https://localhost:8080/"
        },
        "id": "FLbXiwmfGq78",
        "outputId": "552cf815-8fcb-46fb-c32a-d0edd50e306f"
      },
      "outputs": [],
      "source": [
        "root_dir = 'dataset/chest_xray/'\n",
        "train_data_path = 'train'\n",
        "test_data_path = 'test'\n",
        "val_data_path = 'val'"
      ]
    },
    {
      "cell_type": "code",
      "execution_count": 20,
      "metadata": {
        "id": "abK_tbjXGq79"
      },
      "outputs": [],
      "source": [
        "train_transforms =  transforms.Compose([\n",
        "    transforms.Resize((224, 224)),\n",
        "    transforms.RandomHorizontalFlip(),\n",
        "    transforms.CenterCrop((224,224)),\n",
        "    transforms.ToTensor(),\n",
        "    transforms.Normalize(mean=[0.485, 0.456, 0.406],\n",
        "                         std=[0.229, 0.224, 0.225])\n",
        "])\n",
        "\n",
        "#test and validation\n",
        "test_transforms = transforms.Compose([\n",
        "    transforms.Resize((224, 224)),\n",
        "    transforms.ToTensor(),\n",
        "    transforms.Normalize(mean=[0.485, 0.456, 0.406],\n",
        "                         std=[0.229, 0.224, 0.225])\n",
        "])"
      ]
    },
    {
      "cell_type": "code",
      "execution_count": 21,
      "metadata": {
        "id": "SMckKmysGq79"
      },
      "outputs": [],
      "source": [
        "class PneumoniaDataset(Dataset):\n",
        "    def __init__(self, root_dir: str, *args, **kwargs) -> None:\n",
        "        self.train_data = None\n",
        "        self.test_data = None\n",
        "        self.val_data = None\n",
        "        pass\n",
        "\n",
        "    def __len__(self,) -> int:\n",
        "        pass\n",
        "\n",
        "    def __getitem__(self,) -> Any:\n",
        "        pass"
      ]
    },
    {
      "cell_type": "code",
      "execution_count": 22,
      "metadata": {
        "id": "7xBK1dryGq7-"
      },
      "outputs": [],
      "source": [
        "train_dataset = torchvision.datasets.ImageFolder(\n",
        "    root=root_dir + train_data_path,\n",
        "    transform=train_transforms\n",
        ")\n",
        "test_dataset = torchvision.datasets.ImageFolder(\n",
        "    root=root_dir + test_data_path,\n",
        "    transform=test_transforms\n",
        ")\n",
        "val_dataset = torchvision.datasets.ImageFolder(\n",
        "    root=root_dir + val_data_path,\n",
        "    transform=test_transforms\n",
        ")\n",
        "BATCH_SIZE = 64"
      ]
    },
    {
      "cell_type": "code",
      "execution_count": 23,
      "metadata": {
        "colab": {
          "base_uri": "https://localhost:8080/"
        },
        "id": "weHd6OdJGq7-",
        "outputId": "f390c0ca-9946-449f-8a99-c034f377f1c6"
      },
      "outputs": [
        {
          "name": "stdout",
          "output_type": "stream",
          "text": [
            "5216\n",
            "624\n",
            "16\n",
            "['NORMAL', 'PNEUMONIA']\n",
            "{'NORMAL': 0, 'PNEUMONIA': 1}\n"
          ]
        }
      ],
      "source": [
        "train_loader = DataLoader(train_dataset, batch_size=BATCH_SIZE, shuffle=True)\n",
        "test_loader = DataLoader(test_dataset, batch_size=BATCH_SIZE, shuffle=True)\n",
        "val_loader = DataLoader(val_dataset, batch_size=BATCH_SIZE, shuffle=True)\n",
        "print(len(train_loader.dataset))\n",
        "print(len(test_loader.dataset))\n",
        "print(len(val_loader.dataset))\n",
        "\n",
        "classes = train_dataset.classes\n",
        "print(classes)\n",
        "print(train_dataset.class_to_idx)"
      ]
    },
    {
      "cell_type": "code",
      "execution_count": 24,
      "metadata": {
        "colab": {
          "base_uri": "https://localhost:8080/",
          "height": 503
        },
        "id": "6e5kTKFBGq7-",
        "outputId": "531b38c1-16ad-4b5d-b1ed-19e9e4fe0d34"
      },
      "outputs": [
        {
          "name": "stderr",
          "output_type": "stream",
          "text": [
            "Clipping input data to the valid range for imshow with RGB data ([0..1] for floats or [0..255] for integers).\n"
          ]
        },
        {
          "name": "stdout",
          "output_type": "stream",
          "text": [
            "Feature batch shape: torch.Size([64, 3, 224, 224])\n",
            "Labels batch shape: torch.Size([64])\n"
          ]
        },
        {
          "data": {
            "image/png": "[encoded data removed]",
            "text/plain": [
              "<Figure size 432x288 with 1 Axes>"
            ]
          },
          "metadata": {
            "needs_background": "light"
          },
          "output_type": "display_data"
        },
        {
          "name": "stdout",
          "output_type": "stream",
          "text": [
            "Label: 1\n"
          ]
        }
      ],
      "source": [
        "train_features, train_labels = next(iter(train_loader))\n",
        "print(f\"Feature batch shape: {train_features.size()}\")\n",
        "print(f\"Labels batch shape: {train_labels.size()}\")\n",
        "img = train_features[0].squeeze().permute(1,2,0)\n",
        "label = train_labels[1]\n",
        "plt.imshow(img)\n",
        "plt.show()\n",
        "print(f\"Label: {label}\")"
      ]
    },
    {
      "cell_type": "code",
      "execution_count": 25,
      "metadata": {
        "colab": {
          "base_uri": "https://localhost:8080/"
        },
        "id": "Qr7uuGikGq7_",
        "outputId": "3c5e0034-dc5c-4510-8709-6ac313c49db0"
      },
      "outputs": [
        {
          "name": "stdout",
          "output_type": "stream",
          "text": [
            "cuda\n"
          ]
        },
        {
          "data": {
            "text/plain": [
              "Network(\n",
              "  (conv1): Conv2d(3, 12, kernel_size=(3, 3), stride=(1, 1), padding=(1, 1))\n",
              "  (bn1): BatchNorm2d(12, eps=1e-05, momentum=0.1, affine=True, track_running_stats=True)\n",
              "  (relu1): ReLU()\n",
              "  (pool): MaxPool2d(kernel_size=2, stride=2, padding=0, dilation=1, ceil_mode=False)\n",
              "  (conv2): Conv2d(12, 16, kernel_size=(3, 3), stride=(1, 1), padding=(1, 1))\n",
              "  (relu2): ReLU()\n",
              "  (conv3): Conv2d(16, 32, kernel_size=(3, 3), stride=(1, 1), padding=(1, 1))\n",
              "  (bn3): BatchNorm2d(32, eps=1e-05, momentum=0.1, affine=True, track_running_stats=True)\n",
              "  (relu3): ReLU()\n",
              "  (fc1): Linear(in_features=401408, out_features=784, bias=True)\n",
              "  (fc2): Linear(in_features=784, out_features=49, bias=True)\n",
              "  (drop): Dropout(p=0.5, inplace=False)\n",
              "  (fc3): Linear(in_features=49, out_features=2, bias=True)\n",
              ")"
            ]
          },
          "execution_count": 25,
          "metadata": {},
          "output_type": "execute_result"
        }
      ],
      "source": [
        "class Network(nn.Module):\n",
        "    def __init__(self, *args, **kwargs) -> None:\n",
        "        super().__init__(*args, **kwargs)\n",
        "        self.conv1 = nn.Conv2d(3, 12, 3, stride=1, padding=1)\n",
        "        # ((width - kernel_size + 2*padding)/stride) + 1\n",
        "        self.bn1 = nn.BatchNorm2d(num_features=12)\n",
        "        self.relu1 = nn.ReLU()\n",
        "        self.pool = nn.MaxPool2d(2, 2)\n",
        "        # shape now is 16, 12, 112, 112\n",
        "        self.conv2 = nn.Conv2d(12, 16, 3, stride=1, padding=1)\n",
        "        self.relu2 = nn.ReLU()\n",
        "        #16, 16, 112, 112\n",
        "        self.conv3 = nn.Conv2d(16, 32, 3, stride=1, padding=1)\n",
        "        self.bn3 = nn.BatchNorm2d(num_features=32)\n",
        "        self.relu3 = nn.ReLU()\n",
        "\n",
        "        #hardcoded out_features but same as number of classes -> (NORMAL, PNEUMONIA) = 2\n",
        "        self.fc1 = nn.Linear(32*112*112, out_features=784)\n",
        "        self.fc2 = nn.Linear(784, 49)\n",
        "        self.drop = nn.Dropout(0.5)\n",
        "        self.fc3 = nn.Linear(49, 2)\n",
        "\n",
        "\n",
        "    def forward(self, x):\n",
        "        output = self.conv1(x)\n",
        "        output = self.bn1(output)\n",
        "        output = self.relu1(output)\n",
        "        output = self.pool(output)\n",
        "        output = self.conv2(output)\n",
        "        output = self.relu2(output)\n",
        "        output = self.conv3(output)\n",
        "        output = self.bn3(output)\n",
        "        output = self.relu3(output)\n",
        "        #fc -> we need to reshape it\n",
        "        output = output.view(-1, 32*112*112)\n",
        "        output = self.fc1(output)\n",
        "        output = self.fc2(output)\n",
        "        # dropout only for training !!!\n",
        "        output = self.drop(output)\n",
        "        output = self.fc3(output)\n",
        "        return output\n",
        "\n",
        "device = 'cuda' if torch.cuda.is_available() else 'cpu'\n",
        "print(device)\n",
        "net = Network()\n",
        "net.to(device)"
      ]
    },
    {
      "cell_type": "code",
      "execution_count": 26,
      "metadata": {
        "id": "tIMlAa5IGq8A"
      },
      "outputs": [],
      "source": [
        "criterion = nn.CrossEntropyLoss()\n",
        "optimizer = optim.Adam(net.parameters(), lr=0.001, weight_decay=0.001)"
      ]
    },
    {
      "cell_type": "code",
      "execution_count": 27,
      "metadata": {
        "id": "O9ahZY3EReoV"
      },
      "outputs": [],
      "source": [
        "from torch.utils.tensorboard import SummaryWriter\n",
        "writer = SummaryWriter()"
      ]
    },
    {
      "cell_type": "code",
      "execution_count": 28,
      "metadata": {
        "colab": {
          "base_uri": "https://localhost:8080/"
        },
        "id": "ctE8lwGUGq8A",
        "outputId": "58cf3110-a876-4734-e37a-3dd1da7c2dbb"
      },
      "outputs": [
        {
          "name": "stdout",
          "output_type": "stream",
          "text": [
            "Epoch: 0, Training Loss: 24.31, Validation Loss: 8.71, accuracy = 0.81\n",
            "Epoch: 1, Training Loss: 5.12, Validation Loss: 2.73, accuracy = 0.94\n",
            "Finished Training\n"
          ]
        }
      ],
      "source": [
        "for epoch in range(2):  # loop over the dataset multiple times\n",
        "    net.train()\n",
        "    training_loss = 0.0\n",
        "    valid_loss = 0.0\n",
        "\n",
        "    for i, data in enumerate(train_loader, 0):\n",
        "        optimizer.zero_grad()\n",
        "        # get the inputs; data is a list of [inputs, labels]\n",
        "        inputs, labels = data\n",
        "        inputs, labels = inputs.to(device), labels.to(device)\n",
        "\n",
        "        # forward + backward + optimize\n",
        "        outputs = net(inputs)\n",
        "\n",
        "        loss = criterion(outputs, labels)\n",
        "        loss.backward()\n",
        "        optimizer.step()\n",
        "        training_loss += loss.data.item() * inputs.size(0)\n",
        "    training_loss /= len(train_loader.dataset)\n",
        "    writer.add_scalar('Loss/train', training_loss, epoch)\n",
        "    net.eval()\n",
        "    num_correct = 0\n",
        "    num_examples = 0\n",
        "    for i, data in enumerate(val_loader, 0):\n",
        "        optimizer.zero_grad()\n",
        "        # get the inputs; data is a list of [inputs, labels]\n",
        "        inputs, labels = data\n",
        "        inputs, labels = inputs.to(device), labels.to(device)\n",
        "\n",
        "        # forward + backward + optimize\n",
        "        outputs = net(inputs)\n",
        "\n",
        "        loss = criterion(outputs, labels)\n",
        "        valid_loss += loss.data.item() * inputs.size(0)\n",
        "        correct = torch.eq(torch.max(F.softmax(outputs, dim=1), dim=1)[1],\n",
        "                               labels)\n",
        "        num_correct += torch.sum(correct).item()\n",
        "        num_examples += correct.shape[0]\n",
        "    valid_loss /= len(val_loader.dataset)\n",
        "    writer.add_scalar('Loss/valid', valid_loss, epoch)\n",
        "    writer.add_scalar('accuracy', num_correct / num_examples, epoch)\n",
        "    print('Epoch: {}, Training Loss: {:.2f}, Validation Loss: {:.2f}, accuracy = {:.2f}'.format(epoch, training_loss,\n",
        "        valid_loss, num_correct / num_examples))\n",
        "print('Finished Training')\n",
        "writer.flush() # to make sure all is saved to disk"
      ]
    },
    {
      "cell_type": "code",
      "execution_count": 29,
      "metadata": {
        "colab": {
          "base_uri": "https://localhost:8080/"
        },
        "id": "7xXWmSVPGq8B",
        "outputId": "26c7633b-45f2-48a6-8658-d5e1d518acd6"
      },
      "outputs": [],
      "source": [
        "writer.close()"
      ]
    },
    {
      "cell_type": "markdown",
      "metadata": {},
      "source": [
        "Testing the model"
      ]
    },
    {
      "cell_type": "code",
      "execution_count": 33,
      "metadata": {
        "id": "VdJanF3tRefm"
      },
      "outputs": [
        {
          "name": "stdout",
          "output_type": "stream",
          "text": [
            "Testing Accuracy: 0.782051282051282\n"
          ]
        }
      ],
      "source": [
        "def test_model(net, test_loader, device=\"cpu\"):\n",
        "    net.eval()\n",
        "    num_correct = 0\n",
        "    num_examples = 0\n",
        "\n",
        "    for _, data in enumerate(test_loader, 0):\n",
        "        \n",
        "        inputs, labels = data\n",
        "        inputs, labels = inputs.to(device), labels.to(device)\n",
        "\n",
        "        outputs = net(inputs)\n",
        "        correct = torch.eq(torch.max(F.softmax(outputs, dim=1), dim=1)[1],\n",
        "                                labels)\n",
        "        num_correct += torch.sum(correct).item()\n",
        "        num_examples += correct.shape[0]\n",
        "\n",
        "    accuracy = num_correct / num_examples\n",
        "    print(f\"Testing Accuracy: {accuracy}\")\n",
        "\n",
        "test_model(net, test_loader, device)"
      ]
    },
    {
      "cell_type": "code",
      "execution_count": 31,
      "metadata": {},
      "outputs": [],
      "source": [
        "torch.save(net, 'model.pickle')"
      ]
    }
  ],
  "metadata": {
    "accelerator": "GPU",
    "colab": {
      "gpuType": "T4",
      "provenance": []
    },
    "kernelspec": {
      "display_name": "Python 3",
      "name": "python3"
    },
    "language_info": {
      "codemirror_mode": {
        "name": "ipython",
        "version": 3
      },
      "file_extension": ".py",
      "mimetype": "text/x-python",
      "name": "python",
      "nbconvert_exporter": "python",
      "pygments_lexer": "ipython3",
      "version": "3.10.1"
    }
  },
  "nbformat": 4,
  "nbformat_minor": 0
}
